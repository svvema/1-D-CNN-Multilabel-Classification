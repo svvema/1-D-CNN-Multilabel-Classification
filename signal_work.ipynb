{
  "nbformat": 4,
  "nbformat_minor": 0,
  "metadata": {
    "colab": {
      "name": "signal_work.ipynb",
      "provenance": [],
      "collapsed_sections": []
    },
    "kernelspec": {
      "name": "python3",
      "display_name": "Python 3"
    },
    "language_info": {
      "name": "python"
    },
    "accelerator": "GPU"
  },
  "cells": [
    {
      "cell_type": "code",
      "metadata": {
        "id": "p1E6UWpZYP2o"
      },
      "source": [
        "import pandas as pd\n",
        "import numpy as np\n",
        "import torch\n",
        "import csv\n",
        "import matplotlib.pyplot as plt\n",
        "import zipfile\n",
        "from sklearn.model_selection import train_test_split"
      ],
      "execution_count": null,
      "outputs": []
    },
    {
      "cell_type": "code",
      "metadata": {
        "id": "TJHqa9KTQfKW"
      },
      "source": [
        "from google.colab import drive\n",
        "#rive.mount('/content/drive')"
      ],
      "execution_count": null,
      "outputs": []
    },
    {
      "cell_type": "code",
      "metadata": {
        "id": "3nrI7NaTOR19"
      },
      "source": [
        "# Подгрузка датасета с гугл-драйва"
        "zipFile = zipfile.ZipFile('/content/drive/MyDrive/signal_work/data.zip', 'r')\n",
        "zipFile.extractall('/content/drive/MyDrive/signal_work/')"
      ],
      "execution_count": null,
      "outputs": []
    },
    {
      "cell_type": "code",
      "metadata": {
        "id": "-ZtSEwxVQnFN"
      },
      "source": [
        "DATA_PATH = '/content/drive/MyDrive/signal_work/data.csv'"
      ],
      "execution_count": null,
      "outputs": []
    },
    {
      "cell_type": "code",
      "metadata": {
        "id": "2xIFVmpQaG7y"
      },
      "source": [
        "data = pd.read_csv(DATA_PATH, sep=',', header=None)\n",
        "data = data.iloc[1:]"
      ],
      "execution_count": null,
      "outputs": []
    },
    {
      "cell_type": "code",
      "metadata": {
        "id": "UHz0r7G9ShEE"
      },
      "source": [
        "data = pd.get_dummies(data,columns=[0,1], drop_first=False)"
      ],
      "execution_count": null,
      "outputs": []
    },
    {
      "cell_type": "code",
      "metadata": {
        "colab": {
          "base_uri": "https://localhost:8080/",
          "height": 417
        },
        "id": "ufXBsTr5T24r",
        "outputId": "7dde9e9c-7a0b-4838-dbc3-09195d81e2ac"
      },
      "source": [
        "data.iloc[:,1250:]"
      ],
      "execution_count": null,
      "outputs": [
        {
          "output_type": "execute_result",
          "data": {
            "text/html": [
              "<div>\n",
              "<style scoped>\n",
              "    .dataframe tbody tr th:only-of-type {\n",
              "        vertical-align: middle;\n",
              "    }\n",
              "\n",
              "    .dataframe tbody tr th {\n",
              "        vertical-align: top;\n",
              "    }\n",
              "\n",
              "    .dataframe thead th {\n",
              "        text-align: right;\n",
              "    }\n",
              "</style>\n",
              "<table border=\"1\" class=\"dataframe\">\n",
              "  <thead>\n",
              "    <tr style=\"text-align: right;\">\n",
              "      <th></th>\n",
              "      <th>0_0.0</th>\n",
              "      <th>0_1.0</th>\n",
              "      <th>0_2.0</th>\n",
              "      <th>0_3.0</th>\n",
              "      <th>0_4.0</th>\n",
              "      <th>0_5.0</th>\n",
              "      <th>1_0.0</th>\n",
              "      <th>1_1.0</th>\n",
              "      <th>1_2.0</th>\n",
              "      <th>1_3.0</th>\n",
              "      <th>1_4.0</th>\n",
              "      <th>1_5.0</th>\n",
              "      <th>1_6.0</th>\n",
              "      <th>1_7.0</th>\n",
              "      <th>1_8.0</th>\n",
              "      <th>1_9.0</th>\n",
              "      <th>1_10.0</th>\n",
              "    </tr>\n",
              "  </thead>\n",
              "  <tbody>\n",
              "    <tr>\n",
              "      <th>1</th>\n",
              "      <td>0</td>\n",
              "      <td>0</td>\n",
              "      <td>1</td>\n",
              "      <td>0</td>\n",
              "      <td>0</td>\n",
              "      <td>0</td>\n",
              "      <td>0</td>\n",
              "      <td>1</td>\n",
              "      <td>0</td>\n",
              "      <td>0</td>\n",
              "      <td>0</td>\n",
              "      <td>0</td>\n",
              "      <td>0</td>\n",
              "      <td>0</td>\n",
              "      <td>0</td>\n",
              "      <td>0</td>\n",
              "      <td>0</td>\n",
              "    </tr>\n",
              "    <tr>\n",
              "      <th>2</th>\n",
              "      <td>0</td>\n",
              "      <td>0</td>\n",
              "      <td>1</td>\n",
              "      <td>0</td>\n",
              "      <td>0</td>\n",
              "      <td>0</td>\n",
              "      <td>0</td>\n",
              "      <td>1</td>\n",
              "      <td>0</td>\n",
              "      <td>0</td>\n",
              "      <td>0</td>\n",
              "      <td>0</td>\n",
              "      <td>0</td>\n",
              "      <td>0</td>\n",
              "      <td>0</td>\n",
              "      <td>0</td>\n",
              "      <td>0</td>\n",
              "    </tr>\n",
              "    <tr>\n",
              "      <th>3</th>\n",
              "      <td>0</td>\n",
              "      <td>0</td>\n",
              "      <td>1</td>\n",
              "      <td>0</td>\n",
              "      <td>0</td>\n",
              "      <td>0</td>\n",
              "      <td>0</td>\n",
              "      <td>1</td>\n",
              "      <td>0</td>\n",
              "      <td>0</td>\n",
              "      <td>0</td>\n",
              "      <td>0</td>\n",
              "      <td>0</td>\n",
              "      <td>0</td>\n",
              "      <td>0</td>\n",
              "      <td>0</td>\n",
              "      <td>0</td>\n",
              "    </tr>\n",
              "    <tr>\n",
              "      <th>4</th>\n",
              "      <td>0</td>\n",
              "      <td>0</td>\n",
              "      <td>1</td>\n",
              "      <td>0</td>\n",
              "      <td>0</td>\n",
              "      <td>0</td>\n",
              "      <td>0</td>\n",
              "      <td>1</td>\n",
              "      <td>0</td>\n",
              "      <td>0</td>\n",
              "      <td>0</td>\n",
              "      <td>0</td>\n",
              "      <td>0</td>\n",
              "      <td>0</td>\n",
              "      <td>0</td>\n",
              "      <td>0</td>\n",
              "      <td>0</td>\n",
              "    </tr>\n",
              "    <tr>\n",
              "      <th>5</th>\n",
              "      <td>0</td>\n",
              "      <td>0</td>\n",
              "      <td>1</td>\n",
              "      <td>0</td>\n",
              "      <td>0</td>\n",
              "      <td>0</td>\n",
              "      <td>0</td>\n",
              "      <td>1</td>\n",
              "      <td>0</td>\n",
              "      <td>0</td>\n",
              "      <td>0</td>\n",
              "      <td>0</td>\n",
              "      <td>0</td>\n",
              "      <td>0</td>\n",
              "      <td>0</td>\n",
              "      <td>0</td>\n",
              "      <td>0</td>\n",
              "    </tr>\n",
              "    <tr>\n",
              "      <th>...</th>\n",
              "      <td>...</td>\n",
              "      <td>...</td>\n",
              "      <td>...</td>\n",
              "      <td>...</td>\n",
              "      <td>...</td>\n",
              "      <td>...</td>\n",
              "      <td>...</td>\n",
              "      <td>...</td>\n",
              "      <td>...</td>\n",
              "      <td>...</td>\n",
              "      <td>...</td>\n",
              "      <td>...</td>\n",
              "      <td>...</td>\n",
              "      <td>...</td>\n",
              "      <td>...</td>\n",
              "      <td>...</td>\n",
              "      <td>...</td>\n",
              "    </tr>\n",
              "    <tr>\n",
              "      <th>8457</th>\n",
              "      <td>0</td>\n",
              "      <td>0</td>\n",
              "      <td>1</td>\n",
              "      <td>0</td>\n",
              "      <td>0</td>\n",
              "      <td>0</td>\n",
              "      <td>0</td>\n",
              "      <td>0</td>\n",
              "      <td>0</td>\n",
              "      <td>0</td>\n",
              "      <td>0</td>\n",
              "      <td>0</td>\n",
              "      <td>0</td>\n",
              "      <td>0</td>\n",
              "      <td>0</td>\n",
              "      <td>1</td>\n",
              "      <td>0</td>\n",
              "    </tr>\n",
              "    <tr>\n",
              "      <th>8458</th>\n",
              "      <td>0</td>\n",
              "      <td>0</td>\n",
              "      <td>1</td>\n",
              "      <td>0</td>\n",
              "      <td>0</td>\n",
              "      <td>0</td>\n",
              "      <td>0</td>\n",
              "      <td>0</td>\n",
              "      <td>0</td>\n",
              "      <td>0</td>\n",
              "      <td>0</td>\n",
              "      <td>0</td>\n",
              "      <td>0</td>\n",
              "      <td>0</td>\n",
              "      <td>0</td>\n",
              "      <td>1</td>\n",
              "      <td>0</td>\n",
              "    </tr>\n",
              "    <tr>\n",
              "      <th>8459</th>\n",
              "      <td>0</td>\n",
              "      <td>0</td>\n",
              "      <td>1</td>\n",
              "      <td>0</td>\n",
              "      <td>0</td>\n",
              "      <td>0</td>\n",
              "      <td>0</td>\n",
              "      <td>0</td>\n",
              "      <td>0</td>\n",
              "      <td>0</td>\n",
              "      <td>0</td>\n",
              "      <td>0</td>\n",
              "      <td>0</td>\n",
              "      <td>0</td>\n",
              "      <td>0</td>\n",
              "      <td>1</td>\n",
              "      <td>0</td>\n",
              "    </tr>\n",
              "    <tr>\n",
              "      <th>8460</th>\n",
              "      <td>0</td>\n",
              "      <td>0</td>\n",
              "      <td>1</td>\n",
              "      <td>0</td>\n",
              "      <td>0</td>\n",
              "      <td>0</td>\n",
              "      <td>0</td>\n",
              "      <td>0</td>\n",
              "      <td>0</td>\n",
              "      <td>0</td>\n",
              "      <td>0</td>\n",
              "      <td>0</td>\n",
              "      <td>0</td>\n",
              "      <td>0</td>\n",
              "      <td>0</td>\n",
              "      <td>1</td>\n",
              "      <td>0</td>\n",
              "    </tr>\n",
              "    <tr>\n",
              "      <th>8461</th>\n",
              "      <td>0</td>\n",
              "      <td>0</td>\n",
              "      <td>1</td>\n",
              "      <td>0</td>\n",
              "      <td>0</td>\n",
              "      <td>0</td>\n",
              "      <td>0</td>\n",
              "      <td>0</td>\n",
              "      <td>0</td>\n",
              "      <td>0</td>\n",
              "      <td>0</td>\n",
              "      <td>0</td>\n",
              "      <td>0</td>\n",
              "      <td>0</td>\n",
              "      <td>0</td>\n",
              "      <td>1</td>\n",
              "      <td>0</td>\n",
              "    </tr>\n",
              "  </tbody>\n",
              "</table>\n",
              "<p>8461 rows × 17 columns</p>\n",
              "</div>"
            ],
            "text/plain": [
              "      0_0.0  0_1.0  0_2.0  0_3.0  0_4.0  ...  1_6.0  1_7.0  1_8.0  1_9.0  1_10.0\n",
              "1         0      0      1      0      0  ...      0      0      0      0       0\n",
              "2         0      0      1      0      0  ...      0      0      0      0       0\n",
              "3         0      0      1      0      0  ...      0      0      0      0       0\n",
              "4         0      0      1      0      0  ...      0      0      0      0       0\n",
              "5         0      0      1      0      0  ...      0      0      0      0       0\n",
              "...     ...    ...    ...    ...    ...  ...    ...    ...    ...    ...     ...\n",
              "8457      0      0      1      0      0  ...      0      0      0      1       0\n",
              "8458      0      0      1      0      0  ...      0      0      0      1       0\n",
              "8459      0      0      1      0      0  ...      0      0      0      1       0\n",
              "8460      0      0      1      0      0  ...      0      0      0      1       0\n",
              "8461      0      0      1      0      0  ...      0      0      0      1       0\n",
              "\n",
              "[8461 rows x 17 columns]"
            ]
          },
          "metadata": {
            "tags": []
          },
          "execution_count": 7
        }
      ]
    },
    {
      "cell_type": "code",
      "metadata": {
        "id": "n3JbXc1WQqLJ"
      },
      "source": [
        "train, test = train_test_split(data, test_size=0.3, random_state=12345)"
      ],
      "execution_count": null,
      "outputs": []
    },
    {
      "cell_type": "code",
      "metadata": {
        "id": "P98WgxPsVlvc"
      },
      "source": [
        "X_train = torch.tensor(train.iloc[:,:1250].values, requires_grad = True)\n",
        "y_train = torch.tensor(train.iloc[:,1250:].values)\n",
        "X_test = torch.tensor(test.iloc[:,:1250].values)\n",
        "y_test = torch.tensor(test.iloc[:,1250:].values)"
      ],
      "execution_count": null,
      "outputs": []
    },
    {
      "cell_type": "code",
      "metadata": {
        "id": "vorV0dlFQqIB"
      },
      "source": [
        "X_train = X_train.unsqueeze(1).float()\n",
        "X_test = X_test.unsqueeze(1).float()"
      ],
      "execution_count": null,
      "outputs": []
    },
    {
      "cell_type": "code",
      "metadata": {
        "colab": {
          "base_uri": "https://localhost:8080/"
        },
        "id": "ITyq8VNDr8Hs",
        "outputId": "101ca773-a636-4e89-a068-c2554345445a"
      },
      "source": [
        "y_test.shape"
      ],
      "execution_count": null,
      "outputs": [
        {
          "output_type": "execute_result",
          "data": {
            "text/plain": [
              "torch.Size([2539, 17])"
            ]
          },
          "metadata": {
            "tags": []
          },
          "execution_count": 11
        }
      ]
    },
    {
      "cell_type": "code",
      "metadata": {
        "id": "9jF5Ctw-ZPI5"
      },
      "source": [
        "class LeNet5(torch.nn.Module):\n",
        "    def __init__(self):\n",
        "        super(LeNet5, self).__init__()\n",
        "        \n",
        "        self.conv1 = torch.nn.Conv1d(\n",
        "            in_channels=1, out_channels=12, kernel_size=5, padding=0)\n",
        "        self.act1  = torch.nn.ReLU()\n",
        "        self.pool1 = torch.nn.MaxPool1d(kernel_size=2, stride=2)\n",
        "       \n",
        "        self.conv2 = torch.nn.Conv1d(\n",
        "            in_channels=12, out_channels=36, kernel_size=3, padding=0)\n",
        "        self.act2  = torch.nn.ReLU()\n",
        "        self.pool2 = torch.nn.MaxPool1d(kernel_size=2, stride=2)\n",
        "        \n",
        "        self.fc1   = torch.nn.Linear(11160, 2697)\n",
        "        self.act3  = torch.nn.ReLU()\n",
        "        \n",
        "        self.fc2   = torch.nn.Linear(2697, 84)\n",
        "        self.act4  = torch.nn.ReLU()\n",
        "        \n",
        "        self.fc3   = torch.nn.Linear(84, 17)\n",
        "    \n",
        "    def forward(self, x):\n",
        "        \n",
        "        x = self.conv1(x)\n",
        "        x = self.act1(x)\n",
        "        x = self.pool1(x)\n",
        "        \n",
        "        x = self.conv2(x)\n",
        "        x = self.act2(x)\n",
        "        x = self.pool2(x)\n",
        "        \n",
        "        x = x.view(x.size(0), x.size(1) * x.size(2) )\n",
        "        # print(x.shape)\n",
        "        x = self.fc1(x)\n",
        "        x = self.act3(x)\n",
        "        \n",
        "        x = self.fc2(x)\n",
        "        x = self.act4(x)\n",
        "        x = self.fc3(x)\n",
        "        \n",
        "        return x\n",
        "    \n",
        "lenet5 = LeNet5()\n",
        "\n",
        "device = torch.device('cuda:0' if torch.cuda.is_available() else 'cpu')\n",
        "lenet5 = lenet5.to(device)"
      ],
      "execution_count": null,
      "outputs": []
    },
    {
      "cell_type": "code",
      "metadata": {
        "id": "7j21QyRYaObi"
      },
      "source": [
        "loss = torch.nn.BCEWithLogitsLoss()\n",
        "optimizer = torch.optim.Adam(lenet5.parameters(), lr=1.0e-3)"
      ],
      "execution_count": null,
      "outputs": []
    },
    {
      "cell_type": "code",
      "metadata": {
        "colab": {
          "base_uri": "https://localhost:8080/",
          "height": 928
        },
        "id": "e9kjv9KraOWA",
        "outputId": "10cfdd88-0a20-4124-e54d-100f40dd9a36"
      },
      "source": [
        "# ЖДАТЬ ПОКА accuracy не станет около 1. (около 2-3 минут)\n",
        "# <-- потом остановить\n",
        "test_accuracy_history = []\n",
        "test_loss_history = []\n",
        "\n",
        "X_test = X_test.to(device)\n",
        "y_test = y_test.to(device)\n",
        "\n",
        "for epoch in range(1000):\n",
        "    optimizer.zero_grad()\n",
        "    X_train = X_train.to(device)\n",
        "    y_train = y_train.to(device)\n",
        "    \n",
        "    preds = lenet5.forward(X_train) \n",
        "        \n",
        "    loss_value = loss(preds, y_train.float())\n",
        "    loss_value.backward()\n",
        "        \n",
        "    optimizer.step()\n",
        "        \n",
        "    test_preds = lenet5.forward(X_test)\n",
        "    test_loss_history.append(loss(test_preds, y_test.float()).data.cpu())\n",
        "\n",
        "    accuracy = (torch.sigmoid(test_preds.data).round().cpu() == y_test.cpu()).float().mean().data.cpu()\n",
        "\n",
        "    test_accuracy_history.append(accuracy)\n",
        "    \n",
        "    if epoch % 20 == 0: \n",
        "      print('epoch =', epoch, ' accuracy =',accuracy)\n"
      ],
      "execution_count": null,
      "outputs": [
        {
          "output_type": "stream",
          "text": [
            "/usr/local/lib/python3.7/dist-packages/torch/nn/functional.py:652: UserWarning: Named tensors and all their associated APIs are an experimental feature and subject to change. Please do not use them for anything important until they are released as stable. (Triggered internally at  /pytorch/c10/core/TensorImpl.h:1156.)\n",
            "  return torch.max_pool1d(input, kernel_size, stride, padding, dilation, ceil_mode)\n"
          ],
          "name": "stderr"
        },
        {
          "output_type": "stream",
          "text": [
            "epoch = 0  accuracy = tensor(0.8823)\n",
            "epoch = 20  accuracy = tensor(0.8825)\n",
            "epoch = 40  accuracy = tensor(0.8825)\n",
            "epoch = 60  accuracy = tensor(0.8825)\n",
            "epoch = 80  accuracy = tensor(0.8825)\n",
            "epoch = 100  accuracy = tensor(0.8873)\n",
            "epoch = 120  accuracy = tensor(0.8958)\n",
            "epoch = 140  accuracy = tensor(0.8977)\n",
            "epoch = 160  accuracy = tensor(0.9057)\n",
            "epoch = 180  accuracy = tensor(0.9155)\n",
            "epoch = 200  accuracy = tensor(0.9228)\n",
            "epoch = 220  accuracy = tensor(0.9317)\n",
            "epoch = 240  accuracy = tensor(0.9490)\n",
            "epoch = 260  accuracy = tensor(0.9574)\n",
            "epoch = 280  accuracy = tensor(0.9641)\n",
            "epoch = 300  accuracy = tensor(0.9697)\n",
            "epoch = 320  accuracy = tensor(0.9736)\n",
            "epoch = 340  accuracy = tensor(0.9768)\n",
            "epoch = 360  accuracy = tensor(0.9769)\n",
            "epoch = 380  accuracy = tensor(0.9788)\n",
            "epoch = 400  accuracy = tensor(0.9796)\n",
            "epoch = 420  accuracy = tensor(0.9716)\n",
            "epoch = 440  accuracy = tensor(0.9815)\n",
            "epoch = 460  accuracy = tensor(0.9838)\n",
            "epoch = 480  accuracy = tensor(0.9853)\n",
            "epoch = 500  accuracy = tensor(0.9867)\n",
            "epoch = 520  accuracy = tensor(0.9881)\n",
            "epoch = 540  accuracy = tensor(0.9891)\n",
            "epoch = 560  accuracy = tensor(0.9860)\n",
            "epoch = 580  accuracy = tensor(0.9903)\n"
          ],
          "name": "stdout"
        },
        {
          "output_type": "error",
          "ename": "KeyboardInterrupt",
          "evalue": "ignored",
          "traceback": [
            "\u001b[0;31m---------------------------------------------------------------------------\u001b[0m",
            "\u001b[0;31mKeyboardInterrupt\u001b[0m                         Traceback (most recent call last)",
            "\u001b[0;32m<ipython-input-14-349dfe4195cd>\u001b[0m in \u001b[0;36m<module>\u001b[0;34m()\u001b[0m\n\u001b[1;32m     15\u001b[0m \u001b[0;34m\u001b[0m\u001b[0m\n\u001b[1;32m     16\u001b[0m     \u001b[0mloss_value\u001b[0m \u001b[0;34m=\u001b[0m \u001b[0mloss\u001b[0m\u001b[0;34m(\u001b[0m\u001b[0mpreds\u001b[0m\u001b[0;34m,\u001b[0m \u001b[0my_train\u001b[0m\u001b[0;34m.\u001b[0m\u001b[0mfloat\u001b[0m\u001b[0;34m(\u001b[0m\u001b[0;34m)\u001b[0m\u001b[0;34m)\u001b[0m\u001b[0;34m\u001b[0m\u001b[0;34m\u001b[0m\u001b[0m\n\u001b[0;32m---> 17\u001b[0;31m     \u001b[0mloss_value\u001b[0m\u001b[0;34m.\u001b[0m\u001b[0mbackward\u001b[0m\u001b[0;34m(\u001b[0m\u001b[0;34m)\u001b[0m\u001b[0;34m\u001b[0m\u001b[0;34m\u001b[0m\u001b[0m\n\u001b[0m\u001b[1;32m     18\u001b[0m \u001b[0;34m\u001b[0m\u001b[0m\n\u001b[1;32m     19\u001b[0m     \u001b[0moptimizer\u001b[0m\u001b[0;34m.\u001b[0m\u001b[0mstep\u001b[0m\u001b[0;34m(\u001b[0m\u001b[0;34m)\u001b[0m\u001b[0;34m\u001b[0m\u001b[0;34m\u001b[0m\u001b[0m\n",
            "\u001b[0;32m/usr/local/lib/python3.7/dist-packages/torch/_tensor.py\u001b[0m in \u001b[0;36mbackward\u001b[0;34m(self, gradient, retain_graph, create_graph, inputs)\u001b[0m\n\u001b[1;32m    253\u001b[0m                 \u001b[0mcreate_graph\u001b[0m\u001b[0;34m=\u001b[0m\u001b[0mcreate_graph\u001b[0m\u001b[0;34m,\u001b[0m\u001b[0;34m\u001b[0m\u001b[0;34m\u001b[0m\u001b[0m\n\u001b[1;32m    254\u001b[0m                 inputs=inputs)\n\u001b[0;32m--> 255\u001b[0;31m         \u001b[0mtorch\u001b[0m\u001b[0;34m.\u001b[0m\u001b[0mautograd\u001b[0m\u001b[0;34m.\u001b[0m\u001b[0mbackward\u001b[0m\u001b[0;34m(\u001b[0m\u001b[0mself\u001b[0m\u001b[0;34m,\u001b[0m \u001b[0mgradient\u001b[0m\u001b[0;34m,\u001b[0m \u001b[0mretain_graph\u001b[0m\u001b[0;34m,\u001b[0m \u001b[0mcreate_graph\u001b[0m\u001b[0;34m,\u001b[0m \u001b[0minputs\u001b[0m\u001b[0;34m=\u001b[0m\u001b[0minputs\u001b[0m\u001b[0;34m)\u001b[0m\u001b[0;34m\u001b[0m\u001b[0;34m\u001b[0m\u001b[0m\n\u001b[0m\u001b[1;32m    256\u001b[0m \u001b[0;34m\u001b[0m\u001b[0m\n\u001b[1;32m    257\u001b[0m     \u001b[0;32mdef\u001b[0m \u001b[0mregister_hook\u001b[0m\u001b[0;34m(\u001b[0m\u001b[0mself\u001b[0m\u001b[0;34m,\u001b[0m \u001b[0mhook\u001b[0m\u001b[0;34m)\u001b[0m\u001b[0;34m:\u001b[0m\u001b[0;34m\u001b[0m\u001b[0;34m\u001b[0m\u001b[0m\n",
            "\u001b[0;32m/usr/local/lib/python3.7/dist-packages/torch/autograd/__init__.py\u001b[0m in \u001b[0;36mbackward\u001b[0;34m(tensors, grad_tensors, retain_graph, create_graph, grad_variables, inputs)\u001b[0m\n\u001b[1;32m    147\u001b[0m     Variable._execution_engine.run_backward(\n\u001b[1;32m    148\u001b[0m         \u001b[0mtensors\u001b[0m\u001b[0;34m,\u001b[0m \u001b[0mgrad_tensors_\u001b[0m\u001b[0;34m,\u001b[0m \u001b[0mretain_graph\u001b[0m\u001b[0;34m,\u001b[0m \u001b[0mcreate_graph\u001b[0m\u001b[0;34m,\u001b[0m \u001b[0minputs\u001b[0m\u001b[0;34m,\u001b[0m\u001b[0;34m\u001b[0m\u001b[0;34m\u001b[0m\u001b[0m\n\u001b[0;32m--> 149\u001b[0;31m         allow_unreachable=True, accumulate_grad=True)  # allow_unreachable flag\n\u001b[0m\u001b[1;32m    150\u001b[0m \u001b[0;34m\u001b[0m\u001b[0m\n\u001b[1;32m    151\u001b[0m \u001b[0;34m\u001b[0m\u001b[0m\n",
            "\u001b[0;31mKeyboardInterrupt\u001b[0m: "
          ]
        }
      ]
    },
    {
      "cell_type": "code",
      "metadata": {
        "id": "3zh-XR8zmWLB",
        "colab": {
          "base_uri": "https://localhost:8080/",
          "height": 265
        },
        "outputId": "d095a227-7637-4d5c-daa4-77089bdf1412"
      },
      "source": [
        "plt.plot(test_loss_history);"
      ],
      "execution_count": null,
      "outputs": [
        {
          "output_type": "display_data",
          "data": {
            "image/png": "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\n",
            "text/plain": [
              "<Figure size 432x288 with 1 Axes>"
            ]
          },
          "metadata": {
            "tags": [],
            "needs_background": "light"
          }
        }
      ]
    },
    {
      "cell_type": "code",
      "metadata": {
        "colab": {
          "base_uri": "https://localhost:8080/",
          "height": 269
        },
        "id": "XxGji8nNaWHl",
        "outputId": "8b721532-c540-4c5a-d40e-0f616cb3cd8e"
      },
      "source": [
        "plt.plot(test_accuracy_history);"
      ],
      "execution_count": null,
      "outputs": [
        {
          "output_type": "display_data",
          "data": {
            "image/png": "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\n",
            "text/plain": [
              "<Figure size 432x288 with 1 Axes>"
            ]
          },
          "metadata": {
            "tags": [],
            "needs_background": "light"
          }
        }
      ]
    },
    {
      "cell_type": "code",
      "metadata": {
        "id": "2lfb-Ct7YWpP"
      },
      "source": [
        "filepath = '/content/drive/MyDrive/signal_work/lenet.pt'"
      ],
      "execution_count": null,
      "outputs": []
    },
    {
      "cell_type": "code",
      "metadata": {
        "id": "o0qfFvrNbiie"
      },
      "source": [
        "torch.save(lenet5.state_dict(), filepath)"
      ],
      "execution_count": null,
      "outputs": []
    }
  ]
}